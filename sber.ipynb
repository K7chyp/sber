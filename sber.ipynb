{
  "nbformat": 4,
  "nbformat_minor": 0,
  "metadata": {
    "colab": {
      "name": "sber",
      "provenance": [],
      "authorship_tag": "ABX9TyO80TV/lJDR+X+w5hdrQV2y",
      "include_colab_link": true
    },
    "kernelspec": {
      "name": "python3",
      "display_name": "Python 3"
    }
  },
  "cells": [
    {
      "cell_type": "markdown",
      "metadata": {
        "id": "view-in-github",
        "colab_type": "text"
      },
      "source": [
        "<a href=\"https://colab.research.google.com/github/K7chyp/sber/blob/main/sber.ipynb\" target=\"_parent\"><img src=\"https://colab.research.google.com/assets/colab-badge.svg\" alt=\"Open In Colab\"/></a>"
      ]
    },
    {
      "cell_type": "code",
      "metadata": {
        "id": "f1KSfmDHwzf9"
      },
      "source": [
        "import pandas as pd\r\n",
        "import numpy as np\r\n",
        "import xgboost as xgb"
      ],
      "execution_count": 1,
      "outputs": []
    },
    {
      "cell_type": "code",
      "metadata": {
        "id": "4tIpVvVazso7",
        "colab": {
          "base_uri": "https://localhost:8080/"
        },
        "outputId": "1c2d8583-c443-4669-be46-2828b5e940da"
      },
      "source": [
        "from google.colab import drive\r\n",
        "drive.mount('/content/drive')\r\n",
        "\r\n",
        "transactions_train=pd.read_csv('/transactions_train.csv')\r\n",
        "train_target=pd.read_csv('/train_target.csv')\r\n",
        "test=pd.read_csv('/test.csv')"
      ],
      "execution_count": 85,
      "outputs": [
        {
          "output_type": "stream",
          "text": [
            "Drive already mounted at /content/drive; to attempt to forcibly remount, call drive.mount(\"/content/drive\", force_remount=True).\n"
          ],
          "name": "stdout"
        }
      ]
    },
    {
      "cell_type": "code",
      "metadata": {
        "id": "-HXfAeP41Iol"
      },
      "source": [
        "class CommonStat(): \r\n",
        "  \r\n",
        "  def __init__(self, df): \r\n",
        "    self.df = df\r\n",
        "\r\n",
        "  def get_stat(self): \r\n",
        "    return self.df.shape \r\n",
        "  \r\n",
        "  def check_missing(self,output_path=None):    \r\n",
        "    result = pd.concat([self.df.isnull().sum(),self.df.isnull().mean()],axis=1)\r\n",
        "    result = result.rename(index=str,columns={0:'total missing',1:'proportion'})\r\n",
        "    if output_path is not None:\r\n",
        "        result.to_csv(output_path+'missing.csv')\r\n",
        "        print(output_path, 'missing.csv')\r\n",
        "    return result\r\n",
        "  \r\n",
        "  def report(self): \r\n",
        "    profile = ProfileReport(self.df, title=\"Report\")\r\n",
        "    return profile\r\n",
        "  "
      ],
      "execution_count": 73,
      "outputs": []
    },
    {
      "cell_type": "code",
      "metadata": {
        "id": "fLxFoiuo7M3U"
      },
      "source": [
        "class Errors():\r\n",
        "\r\n",
        "  @staticmethod\r\n",
        "  def mae(y_true, y_pred):\r\n",
        "    return np.average(np.average(np.abs(y_pred - y_true), axis=0))\r\n",
        "  \r\n",
        "  @staticmethod\r\n",
        "  def mad(y_true, y_pred): \r\n",
        "    return np.average(np.median(np.abs(y_pred - y_true), axis=0))\r\n",
        "\r\n",
        "  @staticmethod\r\n",
        "  def mse(y_true, y_pred, squared=True): \r\n",
        "    mse = np.average(np.average((y_true - y_pred) ** 2, axis=0))\r\n",
        "    return mse if squared else np.sqrt(mse)\r\n",
        "    \r\n",
        "  @staticmethod\r\n",
        "  def mape(y_true, y_pred): \r\n",
        "    return np.mean(np.abs((y_true - y_pred) / y_true)) * 100\r\n",
        "  \r\n",
        "  @staticmethod\r\n",
        "  def avg(series): \r\n",
        "    sum_ = 0\r\n",
        "    for value in series: \r\n",
        "      sum_ += value\r\n",
        "    return sum_/len(series)\r\n"
      ],
      "execution_count": 37,
      "outputs": []
    },
    {
      "cell_type": "code",
      "metadata": {
        "id": "YY9tTzWlAKW9"
      },
      "source": [
        ""
      ],
      "execution_count": 37,
      "outputs": []
    },
    {
      "cell_type": "code",
      "metadata": {
        "id": "Xkx0HNcC2ccS"
      },
      "source": [
        "class Preprocessing(Errors): \r\n",
        "\r\n",
        "  def __init__(self, \r\n",
        "               transactions_train=transactions_train, \r\n",
        "               train_target=train_target,\r\n",
        "               test=test): \r\n",
        "\r\n",
        "    self.transactions_train = transactions_train\r\n",
        "    self.train_target = train_target\r\n",
        "    self.agg_features = self.calculate_aggregations()\r\n",
        "    self.cat_counts_train = self.counter_df()\r\n",
        "    self.train = self.merge_df()\r\n",
        "    self.test = test\r\n",
        "  \r\n",
        "  def calculate_aggregations(self): \r\n",
        "    self.agg_features=transactions_train.groupby('client_id')['amount_rur'].agg(['sum','mean','std','min','max']).reset_index()\r\n",
        "    return self.agg_features\r\n",
        "  \r\n",
        "  def counter_df(self):\r\n",
        "    self.counter_df_train=self.transactions_train.groupby(['client_id','small_group'])['amount_rur'].count() \r\n",
        "    self.cat_counts_train=self.counter_df_train.reset_index().pivot(index='client_id',\r\n",
        "                                                              columns='small_group',\r\n",
        "                                                              values='amount_rur')\r\n",
        "    self.cat_counts_train=self.cat_counts_train.fillna(0)\r\n",
        "    self.cat_counts_train.columns=['small_group_'+str(i) for i in self.cat_counts_train.columns]\r\n",
        "    return self.cat_counts_train\r\n",
        "   \r\n",
        "  \r\n",
        "  def merge_df(self): \r\n",
        "    self.train=pd.merge(self.train_target,self.agg_features,on='client_id')\r\n",
        "    self.train=pd.merge(self.train,self.cat_counts_train.reset_index(),on='client_id')\r\n",
        "    return self.train\r\n",
        "\r\n",
        "  def split(self): \r\n",
        "\r\n",
        "    common_features=list(set(self.train.columns).intersection(set(self.test.columns)))\r\n",
        "\r\n",
        "    y_train=self.train['bins']\r\n",
        "    X_train=self.train[common_features]\r\n",
        "    X_test=self.test[common_features]\r\n",
        "\r\n",
        "    return X_train, y_train"
      ],
      "execution_count": 87,
      "outputs": []
    },
    {
      "cell_type": "code",
      "metadata": {
        "id": "MPcK2F5bMts2"
      },
      "source": [
        "class Model(Preprocessing): \r\n",
        "  \r\n",
        "  def param_search(self)"
      ],
      "execution_count": null,
      "outputs": []
    }
  ]
}